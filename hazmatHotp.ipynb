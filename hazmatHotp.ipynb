{
 "cells": [
  {
   "cell_type": "markdown",
   "metadata": {},
   "source": [
    "Import des librairies"
   ]
  },
  {
   "cell_type": "code",
   "execution_count": 1,
   "metadata": {},
   "outputs": [],
   "source": [
    "from cryptography.hazmat.primitives.twofactor import hotp\n",
    "from cryptography.hazmat.primitives import twofactor, hashes\n",
    "from cryptography.hazmat.primitives.asymmetric.x25519 import X25519PrivateKey\n",
    "from cryptography.hazmat.primitives.kdf.hkdf import HKDF\n",
    "import base64"
   ]
  },
  {
   "cell_type": "markdown",
   "metadata": {},
   "source": [
    "# Génération des 3 premières valeurs de HOTP en fonction de la clé choisie"
   ]
  },
  {
   "cell_type": "code",
   "execution_count": 2,
   "metadata": {},
   "outputs": [
    {
     "name": "stdout",
     "output_type": "stream",
     "text": [
      "0 value: b'722129'\n",
      "1 value: b'014956'\n",
      "2 value: b'548211'\n",
      "3 value: b'662234'\n",
      "4 value: b'430129'\n",
      "5 value: b'433270'\n",
      "6 value: b'529782'\n",
      "7 value: b'692621'\n",
      "8 value: b'252337'\n",
      "9 value: b'466414'\n"
     ]
    }
   ],
   "source": [
    "key = \"3B7KHDWFFZ5LXPEEKQQEF7TB56GUPQHQ\"\n",
    "keyBytes = base64.b32decode(key)\n",
    "\n",
    "myHotp = hotp.HOTP(keyBytes, 6, hashes.SHA1())\n",
    "\n",
    "for count in range(10):\n",
    "    print(f\"{count} value: {myHotp.generate(count)}\")"
   ]
  },
  {
   "cell_type": "code",
   "execution_count": 3,
   "metadata": {},
   "outputs": [
    {
     "name": "stdout",
     "output_type": "stream",
     "text": [
      "123456 invalidToken\n"
     ]
    }
   ],
   "source": [
    "# Test HOTP invalide\n",
    "try:\n",
    "    myHotp.verify(b\"123456\", 0)\n",
    "except twofactor.InvalidToken:\n",
    "    print(f\"123456 invalidToken\")"
   ]
  },
  {
   "cell_type": "markdown",
   "metadata": {},
   "source": [
    "# Génération d'une clé ECDH"
   ]
  },
  {
   "cell_type": "code",
   "execution_count": 33,
   "metadata": {},
   "outputs": [],
   "source": [
    "alicePvtKey = X25519PrivateKey.generate()\n",
    "alicePubKey = alicePvtKey.public_key()\n",
    "\n",
    "serverPvtKey = X25519PrivateKey.generate()\n",
    "serverPubKey = serverPvtKey.public_key()\n",
    "\n",
    "aliceSharedKey = alicePvtKey.exchange(serverPubKey)\n",
    "aliceDerivedKey = HKDF(\n",
    "    algorithm=hashes.SHA256(),\n",
    "    length=20,\n",
    "    salt=None,\n",
    "    info=b'Alice&Server PSK',\n",
    ").derive(aliceSharedKey)\n",
    "serverSharedKey = serverPvtKey.exchange(alicePubKey)\n",
    "serverDerivedKey = HKDF(\n",
    "    algorithm=hashes.SHA256(),\n",
    "    length=20,\n",
    "    salt=None,\n",
    "    info=b'Alice&Server PSK',\n",
    ").derive(aliceSharedKey)\n",
    "\n"
   ]
  },
  {
   "cell_type": "code",
   "execution_count": 38,
   "metadata": {},
   "outputs": [
    {
     "name": "stdout",
     "output_type": "stream",
     "text": [
      "0 =>\tAlice value: b'119733'\tServer value: b'119733'\n",
      "1 =>\tAlice value: b'200416'\tServer value: b'200416'\n",
      "2 =>\tAlice value: b'415773'\tServer value: b'415773'\n",
      "3 =>\tAlice value: b'959557'\tServer value: b'959557'\n",
      "4 =>\tAlice value: b'512617'\tServer value: b'512617'\n",
      "5 =>\tAlice value: b'042536'\tServer value: b'042536'\n",
      "6 =>\tAlice value: b'452491'\tServer value: b'452491'\n",
      "7 =>\tAlice value: b'179756'\tServer value: b'179756'\n",
      "8 =>\tAlice value: b'797101'\tServer value: b'797101'\n",
      "9 =>\tAlice value: b'975404'\tServer value: b'975404'\n"
     ]
    }
   ],
   "source": [
    "aliceHotp = hotp.HOTP(aliceDerivedKey, 6, hashes.SHA1())\n",
    "serverHotp = hotp.HOTP(serverDerivedKey, 6, hashes.SHA1())\n",
    "\n",
    "for count in range(10):\n",
    "    print(f\"{count} =>\\tAlice value: {aliceHotp.generate(count)}\\tServer value: {serverHotp.generate(count)}\")"
   ]
  },
  {
   "cell_type": "code",
   "execution_count": null,
   "metadata": {},
   "outputs": [],
   "source": []
  }
 ],
 "metadata": {
  "kernelspec": {
   "display_name": "GIT_DEVS",
   "language": "python",
   "name": "python3"
  },
  "language_info": {
   "codemirror_mode": {
    "name": "ipython",
    "version": 3
   },
   "file_extension": ".py",
   "mimetype": "text/x-python",
   "name": "python",
   "nbconvert_exporter": "python",
   "pygments_lexer": "ipython3",
   "version": "3.9.2 (default, Feb 28 2021, 17:03:44) \n[GCC 10.2.1 20210110]"
  },
  "orig_nbformat": 4,
  "vscode": {
   "interpreter": {
    "hash": "c80440cbc959fd0b98b1ccb90b5b47bee14f88e512d6bdff887ed10419ffdf1e"
   }
  }
 },
 "nbformat": 4,
 "nbformat_minor": 2
}
